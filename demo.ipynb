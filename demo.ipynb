{
 "cells": [
  {
   "cell_type": "code",
   "execution_count": 30,
   "metadata": {},
   "outputs": [],
   "source": [
    "from roboflow import Roboflow\n",
    "import streamlit as st\n",
    "from collections import Counter"
   ]
  },
  {
   "cell_type": "code",
   "execution_count": 31,
   "metadata": {},
   "outputs": [],
   "source": [
    "with open('RoboFlowAPIKey.txt','r') as f:\n",
    "    key = f.read()"
   ]
  },
  {
   "cell_type": "code",
   "execution_count": 32,
   "metadata": {},
   "outputs": [],
   "source": [
    "def predict(image_path):\n",
    "    rf = Roboflow(api_key=key)\n",
    "    project = rf.workspace().project(\"deep-learning-basedintelligent-traffic-controlsystem-for-traffic-lightoptimization-omss5\")\n",
    "    model = project.version(3).model\n",
    "    prediction = model.predict(image_path, confidence=40, overlap=30).json()\n",
    "    # model.predict(image_path, confidence=40, overlap=30).save(\"prediction.jpg\")\n",
    "    return prediction"
   ]
  },
  {
   "cell_type": "code",
   "execution_count": 33,
   "metadata": {},
   "outputs": [],
   "source": [
    "def object_counter(prediction):\n",
    "    classList = []\n",
    "    for i in prediction['predictions']:\n",
    "        classList.append(i['class'])    \n",
    "        \n",
    "        # Create a Counter object\n",
    "    counter = Counter(classList)\n",
    "    print(counter)\n",
    "    print(\"counter length: \" + str(len(counter)))\n",
    "    if len(counter)!=0:\n",
    "        for item, count in counter.items():\n",
    "            if (item == 'ambulance' or item == 'firetruck') and count >= 1:\n",
    "                light_color = 'red'\n",
    "            elif (item == 'Elderly Person' or item == 'Wheelchair') and count >= 1:\n",
    "                light_color = 'green'\n",
    "            elif item == 'person' and count >= 2:\n",
    "                light_color = 'green'\n",
    "            else: \n",
    "                light_color = 'red'\n",
    "    else: light_color = 'red'\n",
    "\n",
    "\n",
    "    return light_color"
   ]
  },
  {
   "cell_type": "code",
   "execution_count": 34,
   "metadata": {},
   "outputs": [
    {
     "name": "stdout",
     "output_type": "stream",
     "text": [
      "loading Roboflow workspace...\n",
      "loading Roboflow project...\n",
      "Counter({'Elderly Person': 1})\n",
      "counter length: 1\n"
     ]
    }
   ],
   "source": [
    "prediction = predict('prediction.jpg')\n",
    "light_color = object_counter(prediction)"
   ]
  },
  {
   "cell_type": "code",
   "execution_count": 35,
   "metadata": {},
   "outputs": [
    {
     "data": {
      "text/plain": [
       "'green'"
      ]
     },
     "execution_count": 35,
     "metadata": {},
     "output_type": "execute_result"
    }
   ],
   "source": [
    "light_color"
   ]
  },
  {
   "cell_type": "code",
   "execution_count": null,
   "metadata": {},
   "outputs": [],
   "source": []
  }
 ],
 "metadata": {
  "kernelspec": {
   "display_name": "demoENV",
   "language": "python",
   "name": "python3"
  },
  "language_info": {
   "codemirror_mode": {
    "name": "ipython",
    "version": 3
   },
   "file_extension": ".py",
   "mimetype": "text/x-python",
   "name": "python",
   "nbconvert_exporter": "python",
   "pygments_lexer": "ipython3",
   "version": "3.11.3"
  },
  "orig_nbformat": 4
 },
 "nbformat": 4,
 "nbformat_minor": 2
}
